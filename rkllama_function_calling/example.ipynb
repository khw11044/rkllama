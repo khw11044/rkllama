{
 "cells": [
  {
   "cell_type": "code",
   "execution_count": null,
   "id": "8663736c",
   "metadata": {},
   "outputs": [],
   "source": [
    "from rkllama_core import LLM"
   ]
  },
  {
   "cell_type": "markdown",
   "id": "04e50cb2",
   "metadata": {},
   "source": [
    "# 기본 사용"
   ]
  },
  {
   "cell_type": "code",
   "execution_count": null,
   "id": "05ffba98",
   "metadata": {},
   "outputs": [],
   "source": [
    "# LLM 인스턴스 생성\n",
    "llm = LLM(model=\"Qwen2.5-3B-Instruct_W8A8_G128_RK3588\")\n",
    "\n",
    "# 간단한 질문\n",
    "response = llm.invoke(\"지구의 자전 주기는?\")\n",
    "print(f\"🤖 응답: {response}\")\n",
    "\n",
    "# 직접 호출 (callable)\n",
    "response2 = llm(\"파이썬의 장점 3가지만 말해줘\")\n",
    "print(f\"🤖 응답: {response2}\")"
   ]
  },
  {
   "cell_type": "markdown",
   "id": "81199780",
   "metadata": {},
   "source": [
    "# 시스템 프롬프트 사용"
   ]
  },
  {
   "cell_type": "code",
   "execution_count": null,
   "id": "f2663c94",
   "metadata": {},
   "outputs": [],
   "source": [
    "system_prompt = \"당신은 친근한 AI 어시스턴트입니다. 항상 존댓말을 사용하세요.\"\n",
    "\n",
    "llm = LLM(\n",
    "        model=\"Qwen2.5-3B-Instruct_W8A8_G128_RK3588\",\n",
    "        system_prompt=system_prompt\n",
    "    )\n",
    "    \n",
    "response = llm.invoke(\"안녕하세요!\")\n",
    "print(f\"🤖 응답: {response}\")"
   ]
  },
  {
   "cell_type": "markdown",
   "id": "9a30ccbd",
   "metadata": {},
   "source": [
    "# 창의성 temperature 사용"
   ]
  },
  {
   "cell_type": "code",
   "execution_count": null,
   "id": "95402e93",
   "metadata": {},
   "outputs": [],
   "source": [
    "question = \"창의적인 이야기를 짧게 써주세요\""
   ]
  },
  {
   "cell_type": "code",
   "execution_count": null,
   "id": "5b661da2",
   "metadata": {},
   "outputs": [],
   "source": [
    "# 낮은 온도 (보수적)\n",
    "llm_conservative = LLM(temperature=0.1)\n",
    "response1 = llm_conservative.invoke(question)\n",
    "print(f\"🌡️ 온도 0.1: {response1}\")"
   ]
  },
  {
   "cell_type": "code",
   "execution_count": null,
   "id": "4f9b4544",
   "metadata": {},
   "outputs": [],
   "source": [
    "# 높은 온도 (창의적)\n",
    "llm_creative = LLM(temperature=1.5)\n",
    "response2 = llm_creative.invoke(question)\n",
    "print(f\"🌡️ 온도 1.5: {response2}\")"
   ]
  },
  {
   "cell_type": "markdown",
   "id": "9d222178",
   "metadata": {},
   "source": [
    "# LLM Chaining"
   ]
  },
  {
   "cell_type": "code",
   "execution_count": null,
   "id": "f16b566a",
   "metadata": {},
   "outputs": [],
   "source": [
    "llm = LLM()"
   ]
  },
  {
   "cell_type": "code",
   "execution_count": null,
   "id": "d0fe432c",
   "metadata": {},
   "outputs": [],
   "source": [
    "    \n",
    "# bind 메서드 사용\n",
    "korean_llm = llm.bind(\n",
    "    system_prompt=\"모든 답변을 한국어로 해주세요\",\n",
    "    temperature=0.5\n",
    ")\n",
    "\n",
    "response = korean_llm.invoke(\"What is artificial intelligence?\")\n",
    "print(f\"🤖 한국어 응답: {response}\")\n"
   ]
  },
  {
   "cell_type": "code",
   "execution_count": null,
   "id": "dda69046",
   "metadata": {},
   "outputs": [],
   "source": [
    "# with_config 메서드 사용\n",
    "formal_llm = llm.with_config(\n",
    "    system_prompt=\"정중하고 격식있는 어조로 답변해주세요\",\n",
    "    temperature=0.3\n",
    ")\n",
    "\n",
    "response2 = formal_llm.invoke(\"AI의 미래에 대해 어떻게 생각하세요?\")\n",
    "print(f\"🤖 격식있는 응답: {response2}\")"
   ]
  },
  {
   "cell_type": "markdown",
   "id": "20004d3b",
   "metadata": {},
   "source": [
    "# 스트리밍 사용"
   ]
  },
  {
   "cell_type": "code",
   "execution_count": null,
   "id": "aa2f4190",
   "metadata": {},
   "outputs": [],
   "source": [
    "llm = LLM()"
   ]
  },
  {
   "cell_type": "code",
   "execution_count": null,
   "id": "1551d45e",
   "metadata": {},
   "outputs": [],
   "source": [
    "print(\"🤖 스트리밍 응답: \", end=\"\", flush=True)\n",
    "for chunk in llm.stream_invoke(\"AI와 로봇의 차이점을 설명해주세요\"):\n",
    "    print(chunk, end=\"\", flush=True)\n",
    "print()  # 줄바꿈"
   ]
  },
  {
   "cell_type": "markdown",
   "id": "bd39e58f",
   "metadata": {},
   "source": [
    "# Function Calling 사용"
   ]
  },
  {
   "cell_type": "code",
   "execution_count": null,
   "id": "39d3d0d7",
   "metadata": {},
   "outputs": [],
   "source": [
    "from rkllama_core import LLM, tool, RKLlamaAgent"
   ]
  },
  {
   "cell_type": "code",
   "execution_count": null,
   "id": "f2c2c6b8",
   "metadata": {},
   "outputs": [],
   "source": [
    "# 도구 사용하는 예시\n",
    "@tool\n",
    "def get_weather(city: str) -> str:\n",
    "    \"\"\"날씨 정보를 가져옵니다.\"\"\"\n",
    "    import random\n",
    "    temps = random.randint(-10, 35)\n",
    "    conditions = random.choice([\"맑음\", \"흐림\", \"비\", \"눈\"])\n",
    "    return f\"{city}의 날씨: {temps}°C, {conditions}\""
   ]
  },
  {
   "cell_type": "code",
   "execution_count": null,
   "id": "9cba0929",
   "metadata": {},
   "outputs": [],
   "source": [
    "# 1. 순수 LLM 사용\n",
    "llm = LLM(system_prompt=\"당신은 도움이 되는 AI 어시스턴트입니다.\")\n",
    "response = llm.invoke(\"서울 날씨가 어때?\")\n",
    "print(f\"🤖 LLM만 사용: {response}\")"
   ]
  },
  {
   "cell_type": "code",
   "execution_count": null,
   "id": "1330209a",
   "metadata": {},
   "outputs": [],
   "source": [
    "# 2. Agent와 도구 사용\n",
    "agent = RKLlamaAgent()\n",
    "agent.bind_tools([get_weather])\n",
    "response = agent.invoke(\"서울 날씨가 어때?\")\n",
    "print(f\"🤖 Agent + Tools: {response}\")"
   ]
  },
  {
   "cell_type": "markdown",
   "id": "330aa60e",
   "metadata": {},
   "source": [
    "# 대화 저장 "
   ]
  },
  {
   "cell_type": "code",
   "execution_count": null,
   "id": "4a9702f5",
   "metadata": {},
   "outputs": [],
   "source": [
    "llm = LLM(\n",
    "        system_prompt=\"당신은 친근한 대화 상대입니다. 이전 대화 내용을 기억하며 자연스럽게 대화해주세요.\",\n",
    "        temperature=0.7\n",
    "    )"
   ]
  },
  {
   "cell_type": "code",
   "execution_count": null,
   "id": "58ccc70f",
   "metadata": {},
   "outputs": [],
   "source": [
    "conversation_history = []"
   ]
  },
  {
   "cell_type": "code",
   "execution_count": null,
   "id": "5e2c8799",
   "metadata": {},
   "outputs": [],
   "source": [
    "def chat(message: str) -> str:\n",
    "    # 대화 기록을 시스템 프롬프트에 포함\n",
    "    context = \"\\n\".join([f\"사용자: {h['user']}\\nAI: {h['ai']}\" for h in conversation_history[-3:]])  # 최근 3개만\n",
    "    full_prompt = f\"이전 대화:\\n{context}\\n\\n현재 질문: {message}\" if context else message\n",
    "    \n",
    "    response = llm.invoke(full_prompt)\n",
    "    \n",
    "    # 대화 기록 저장\n",
    "    conversation_history.append({\"user\": message, \"ai\": response})\n",
    "    \n",
    "    return response"
   ]
  },
  {
   "cell_type": "code",
   "execution_count": null,
   "id": "3b19475d",
   "metadata": {},
   "outputs": [],
   "source": [
    "# 대화 시뮬레이션\n",
    "print(f\"🧑 사용자: 안녕하세요!\")\n",
    "response1 = chat(\"안녕하세요!\")\n",
    "print(f\"🤖 AI: {response1}\")"
   ]
  },
  {
   "cell_type": "code",
   "execution_count": null,
   "id": "93d824cb",
   "metadata": {},
   "outputs": [],
   "source": [
    "print(f\"\\n🧑 사용자: 오늘 날씨가 좋네요\")\n",
    "response2 = chat(\"오늘 날씨가 좋네요\")\n",
    "print(f\"🤖 AI: {response2}\")"
   ]
  }
 ],
 "metadata": {
  "kernelspec": {
   "display_name": "Python 3",
   "language": "python",
   "name": "python3"
  },
  "language_info": {
   "name": "python",
   "version": "3.10.12"
  }
 },
 "nbformat": 4,
 "nbformat_minor": 5
}
